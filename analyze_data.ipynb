{
 "cells": [
  {
   "cell_type": "code",
   "execution_count": 1,
   "metadata": {},
   "outputs": [],
   "source": [
    "import pandas as pd\n",
    "from collections import Counter\n",
    "import csv\n"
   ]
  },
  {
   "cell_type": "markdown",
   "metadata": {},
   "source": [
    "2.A. Find the number of unique ingredients. List them with their frequencies."
   ]
  },
  {
   "cell_type": "code",
   "execution_count": 13,
   "metadata": {},
   "outputs": [
    {
     "name": "stdout",
     "output_type": "stream",
     "text": [
      "[INFO] Reading input CSV file: parsed_Ingredients.csv\n",
      "Count of unique ingredients: 10752\n",
      "               Ingredient Name  Frequency\n",
      "0                       garlic       3643\n",
      "1                    olive oil       3524\n",
      "2                       butter       2051\n",
      "3                 caster sugar       1980\n",
      "4                         eggs       1529\n",
      "...                        ...        ...\n",
      "10747               pastry mix          1\n",
      "10748  crusty wholegrain rolls          1\n",
      "10749          Coles chickpeas          1\n",
      "10750   Turkish bread croutons          1\n",
      "10751      Microwavebrown rice          1\n",
      "\n",
      "[10752 rows x 2 columns]\n",
      "[INFO] Data saved to unique_ingredients_frequencies.csv\n"
     ]
    }
   ],
   "source": [
    "import pandas as pd\n",
    "import csv\n",
    "from collections import Counter\n",
    "\n",
    "def analyze_ingredients(input_filename, output_filename):\n",
    "    print(f\"[INFO] Reading input CSV file: {input_filename}\")\n",
    "\n",
    "    ingredients_list = []\n",
    "\n",
    "    with open(input_filename, mode='r', newline='', encoding='utf-8') as infile:\n",
    "        reader = csv.DictReader(infile)\n",
    "        for row in reader:\n",
    "            ingredient = row.get('parsed_Ingredients', '')\n",
    "            if ingredient:\n",
    "                ingredients_list.append(ingredient)\n",
    "    \n",
    "    # Count the occurrences of each ingredient\n",
    "    ingredient_counts = Counter(ingredients_list)\n",
    "    \n",
    "    # Code to find the count of unique ingredients\n",
    "    print(\"Count of unique ingredients: \" + str(len(ingredient_counts)))\n",
    "\n",
    "    # List all unique ingredients along with their frequencies\n",
    "    ingredient_freqs = sorted(ingredient_counts.items(), key=lambda x: x[1], reverse=True)\n",
    "    \n",
    "    # Store the list in a DataFrame\n",
    "    df = pd.DataFrame(ingredient_freqs, columns=['Ingredient Name', 'Frequency'])\n",
    "    print(df)\n",
    "    \n",
    "    # Save the DataFrame to a CSV file\n",
    "    df.to_csv(output_filename, index=False)\n",
    "    print(f\"[INFO] Data saved to {output_filename}\")\n",
    "\n",
    "# Example usage\n",
    "input_filename = 'parsed_Ingredients.csv'  \n",
    "output_filename = 'unique_ingredients_frequencies.csv'\n",
    "analyze_ingredients(input_filename, output_filename)\n",
    "\n",
    "\n"
   ]
  },
  {
   "cell_type": "markdown",
   "metadata": {},
   "source": [
    "2.B. Plot the recipe size distribution for these recipes and the average size of the recipes (s).\n",
    "Properly label the axes."
   ]
  },
  {
   "cell_type": "code",
   "execution_count": 9,
   "metadata": {},
   "outputs": [
    {
     "name": "stdout",
     "output_type": "stream",
     "text": [
      "[INFO] Reading input CSV file: parsed_Ingredients.csv\n",
      "[INFO] Recipe size distribution plot saved to recipe_size_distribution.png\n",
      "[INFO] Average recipe size: 10\n"
     ]
    }
   ],
   "source": [
    "import matplotlib.pyplot as plt\n",
    "def plot_recipe_size_distribution(input_filename, output_filename):\n",
    "    print(f\"[INFO] Reading input CSV file: {input_filename}\")\n",
    "\n",
    "\n",
    "    df = pd.read_csv(input_filename)\n",
    "\n",
    "\n",
    "    if 'Recipe ID' not in df.columns or 'parsed_Ingredients' not in df.columns:\n",
    "        raise ValueError(\"CSV file must contain 'Recipe ID' and 'parsed_Ingredients' columns\")\n",
    "\n",
    "\n",
    "    recipe_sizes = df.groupby('Recipe ID').size()\n",
    "\n",
    "\n",
    "    average_size = round(recipe_sizes.mean())\n",
    "\n",
    "\n",
    "    plt.figure(figsize=(10, 6))\n",
    "    plt.hist(recipe_sizes, bins=range(1, recipe_sizes.max() + 2), edgecolor='black', alpha=0.7)\n",
    "    plt.title('Recipe Size Distribution')\n",
    "    plt.xlabel('Number of Ingredients')\n",
    "    plt.ylabel('Frequency')\n",
    "    plt.xticks(range(1, recipe_sizes.max() + 1))\n",
    "    plt.yticks(range(0, recipe_sizes.value_counts().max() + 1, max(1, recipe_sizes.value_counts().max() // 10)))\n",
    "\n",
    "\n",
    "    plt.axvline(average_size, color='red', linestyle='dashed', linewidth=1, label=f'Average Size = {average_size}')\n",
    "    plt.legend()\n",
    "\n",
    "\n",
    "    plt.savefig(output_filename)\n",
    "    plt.close()\n",
    "\n",
    "    print(f\"[INFO] Recipe size distribution plot saved to {output_filename}\")\n",
    "    print(f\"[INFO] Average recipe size: {average_size}\")\n",
    "\n",
    "\n",
    "input_filename = 'parsed_Ingredients.csv' \n",
    "output_filename = 'recipe_size_distribution.png'\n",
    "plot_recipe_size_distribution(input_filename, output_filename)\n"
   ]
  },
  {
   "cell_type": "markdown",
   "metadata": {},
   "source": [
    "2.C. Plot cumulative distribution of recipe size"
   ]
  },
  {
   "cell_type": "code",
   "execution_count": 10,
   "metadata": {},
   "outputs": [
    {
     "name": "stdout",
     "output_type": "stream",
     "text": [
      "[INFO] Reading input CSV file: parsed_Ingredients.csv\n",
      "[INFO] CDF plot saved to recipe_size_cdf.png\n"
     ]
    }
   ],
   "source": [
    "import pandas as pd\n",
    "import matplotlib.pyplot as plt\n",
    "\n",
    "def plot_cumulative_distribution(input_filename, output_filename):\n",
    "    print(f\"[INFO] Reading input CSV file: {input_filename}\")\n",
    "\n",
    "\n",
    "    df = pd.read_csv(input_filename)\n",
    "\n",
    "    if 'Recipe ID' not in df.columns or 'parsed_Ingredients' not in df.columns:\n",
    "        raise ValueError(\"CSV file must contain 'Recipe ID' and 'parsed_Ingredients' columns\")\n",
    "\n",
    "\n",
    "    recipe_sizes = df.groupby('Recipe ID').size()\n",
    "\n",
    "\n",
    "    sorted_sizes = sorted(recipe_sizes)\n",
    "    cdf = [i / len(sorted_sizes) for i in range(len(sorted_sizes))]\n",
    "\n",
    "    # Plot the CDF\n",
    "    plt.figure(figsize=(10, 6))\n",
    "    plt.step(sorted_sizes, cdf, where='post', color='blue', linestyle='-', linewidth=2)\n",
    "    plt.title('Cumulative Distribution Function (CDF) of Recipe Size')\n",
    "    plt.xlabel('Number of Ingredients')\n",
    "    plt.ylabel('Cumulative Probability')\n",
    "    plt.xticks(range(1, max(sorted_sizes) + 1))\n",
    "    plt.yticks([i / 10.0 for i in range(11)])\n",
    "\n",
    "\n",
    "    plt.savefig(output_filename)\n",
    "    plt.close()\n",
    "\n",
    "    print(f\"[INFO] CDF plot saved to {output_filename}\")\n",
    "\n",
    "input_filename = 'parsed_Ingredients.csv' \n",
    "output_filename = 'recipe_size_cdf.png'\n",
    "plot_cumulative_distribution(input_filename, output_filename)\n"
   ]
  },
  {
   "cell_type": "code",
   "execution_count": 18,
   "metadata": {},
   "outputs": [
    {
     "name": "stdout",
     "output_type": "stream",
     "text": [
      "[INFO] Reading input CSV file: unique_ingredients_frequencies.csv\n"
     ]
    },
    {
     "name": "stdout",
     "output_type": "stream",
     "text": [
      "[INFO] Frequency-rank distribution plot saved to frequency_rank_distribution.svg and frequency_rank_distribution.png\n"
     ]
    }
   ],
   "source": [
    "import pandas as pd\n",
    "import matplotlib.pyplot as plt\n",
    "\n",
    "def plot_frequency_rank_distribution(input_filename, output_filename_svg, output_filename_png):\n",
    "    print(f\"[INFO] Reading input CSV file: {input_filename}\")\n",
    "\n",
    "    df = pd.read_csv(input_filename)\n",
    "\n",
    "    if 'Ingredient Name' not in df.columns or 'Frequency' not in df.columns:\n",
    "        raise ValueError(\"CSV file must contain 'Ingredient Name' and 'Frequency' columns\")\n",
    "\n",
    "\n",
    "    df_sorted = df.sort_values(by='Frequency', ascending=False).reset_index(drop=True)\n",
    "    \n",
    "\n",
    "    df_sorted['Rank'] = df_sorted.index + 1\n",
    "    \n",
    "\n",
    "    max_frequency = df_sorted['Frequency'].max()\n",
    "    df_sorted['Normalized Frequency'] = df_sorted['Frequency'] / max_frequency\n",
    "\n",
    "\n",
    "    plt.figure(figsize=(10, 6))\n",
    "    plt.plot(df_sorted['Rank'], df_sorted['Normalized Frequency'], marker='o', linestyle='-', color='b')\n",
    "    plt.title('Frequency-Rank Distribution of Ingredients')\n",
    "    plt.xlabel('Rank')\n",
    "    plt.ylabel('Normalized Frequency')\n",
    "    plt.xscale('log')  \n",
    "    plt.yscale('log')  \n",
    "    plt.grid(True, which=\"both\", ls=\"--\")\n",
    "    \n",
    "\n",
    "    plt.savefig(output_filename_svg, format='svg')\n",
    "    plt.savefig(output_filename_png, format='png')\n",
    "    plt.close()\n",
    "\n",
    "    print(f\"[INFO] Frequency-rank distribution plot saved to {output_filename_svg} and {output_filename_png}\")\n",
    "\n",
    "\n",
    "input_filename = 'unique_ingredients_frequencies.csv'\n",
    "output_filename_svg = 'frequency_rank_distribution.svg'\n",
    "output_filename_png = 'frequency_rank_distribution.png'\n",
    "plot_frequency_rank_distribution(input_filename, output_filename_svg, output_filename_png)\n"
   ]
  }
 ],
 "metadata": {
  "kernelspec": {
   "display_name": "Python 3",
   "language": "python",
   "name": "python3"
  },
  "language_info": {
   "codemirror_mode": {
    "name": "ipython",
    "version": 3
   },
   "file_extension": ".py",
   "mimetype": "text/x-python",
   "name": "python",
   "nbconvert_exporter": "python",
   "pygments_lexer": "ipython3",
   "version": "3.12.5"
  }
 },
 "nbformat": 4,
 "nbformat_minor": 2
}
